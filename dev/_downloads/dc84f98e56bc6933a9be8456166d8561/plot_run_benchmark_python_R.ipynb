{
  "cells": [
    {
      "cell_type": "markdown",
      "metadata": {},
      "source": [
        "\n# Demo benchmark with R/Python\n"
      ]
    },
    {
      "cell_type": "code",
      "execution_count": null,
      "metadata": {
        "collapsed": false
      },
      "outputs": [],
      "source": [
        "from pathlib import Path\nimport matplotlib.pyplot as plt\nfrom benchopt import run_benchmark\nfrom benchopt.benchmark import Benchmark\nfrom benchopt.plotting import plot_benchmark, PLOT_KINDS\nfrom benchopt.plotting.plot_objective_curve import reset_solver_styles_idx\n\n\nBENCHMARK_PATH = Path().resolve().parent / 'benchmarks' / 'benchmark_lasso'\n\nif not BENCHMARK_PATH.exists():\n    raise RuntimeError(\n        \"This example can only work when Lasso benchmark is cloned in the \"\n        \"example folder. Please run:\\n\"\n        \"$ git clone https://github.com/benchopt/benchmark_lasso \"\n        f\"{BENCHMARK_PATH.resolve()}\"\n    )\n\nsave_file = run_benchmark(\n    BENCHMARK_PATH,\n    solver_names=['Python-PGD[use_acceleration=False]', 'R-PGD'],\n    dataset_names=[\"Simulated[n_features=5000,n_samples=100,rho=0]\"],\n    objective_filters=['*[fit_intercept=False,reg=0.5]'],\n    max_runs=100, timeout=100, n_repetitions=5,\n    plot_result=False, show_progress=False\n)\n\n\nkinds = list(PLOT_KINDS.keys())\nreset_solver_styles_idx()\nfigs = plot_benchmark(\n    save_file, benchmark=Benchmark(BENCHMARK_PATH), kinds=kinds, html=False\n)\nplt.show()"
      ]
    }
  ],
  "metadata": {
    "kernelspec": {
      "display_name": "Python 3",
      "language": "python",
      "name": "python3"
    },
    "language_info": {
      "codemirror_mode": {
        "name": "ipython",
        "version": 3
      },
      "file_extension": ".py",
      "mimetype": "text/x-python",
      "name": "python",
      "nbconvert_exporter": "python",
      "pygments_lexer": "ipython3",
      "version": "3.10.18"
    }
  },
  "nbformat": 4,
  "nbformat_minor": 0
}