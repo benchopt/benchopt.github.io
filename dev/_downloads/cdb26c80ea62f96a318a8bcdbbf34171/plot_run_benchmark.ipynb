{
  "cells": [
    {
      "cell_type": "markdown",
      "metadata": {},
      "source": [
        "\n# Run benchmark from a script\n"
      ]
    },
    {
      "cell_type": "code",
      "execution_count": null,
      "metadata": {
        "collapsed": false
      },
      "outputs": [],
      "source": [
        "from pathlib import Path\nimport matplotlib.pyplot as plt\nfrom benchopt import run_benchmark\nfrom benchopt.benchmark import Benchmark\nfrom benchopt.plotting import plot_benchmark\nfrom benchopt.plotting.helpers import reset_solver_styles\n\n\nBENCHMARK_PATH = (\n    Path().resolve().parent / 'benchmarks' / 'benchmark_logreg_l2'\n)\n\ntry:\n\n    _, save_file = run_benchmark(\n        BENCHMARK_PATH,\n        solver_names=['sklearn[liblinear]', 'sklearn[newton-cg]', 'lightning'],\n        dataset_names=[\"Simulated[n_features=500,n_samples=200]\"],\n        objective_filters=['L2 Logistic Regression[lmbd=1.0]'],\n        max_runs=100, timeout=20, n_repetitions=15,\n        plot_result=False, show_progress=True\n    )\n\nexcept RuntimeError:\n    raise RuntimeError(\n        \"This example can only work when Logreg-l2 benchmark is cloned in a \"\n        \"`benchmarks` folder. Please run:\\n\"\n        \"$ git clone https://github.com/benchopt/benchmark_logreg_l2 \"\n        f\"{BENCHMARK_PATH.resolve()}\"\n    )\n\nreset_solver_styles()\n\nfigs = plot_benchmark(\n    save_file, benchmark=Benchmark(BENCHMARK_PATH), html=False\n)\nplt.show()"
      ]
    }
  ],
  "metadata": {
    "kernelspec": {
      "display_name": "Python 3",
      "language": "python",
      "name": "python3"
    },
    "language_info": {
      "codemirror_mode": {
        "name": "ipython",
        "version": 3
      },
      "file_extension": ".py",
      "mimetype": "text/x-python",
      "name": "python",
      "nbconvert_exporter": "python",
      "pygments_lexer": "ipython3",
      "version": "3.12.11"
    }
  },
  "nbformat": 4,
  "nbformat_minor": 0
}