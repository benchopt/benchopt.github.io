{
  "cells": [
    {
      "cell_type": "code",
      "execution_count": null,
      "metadata": {
        "collapsed": false
      },
      "outputs": [],
      "source": [
        "%matplotlib inline"
      ]
    },
    {
      "cell_type": "markdown",
      "metadata": {},
      "source": [
        "\n# Run benchmark from a script\n"
      ]
    },
    {
      "cell_type": "code",
      "execution_count": null,
      "metadata": {
        "collapsed": false
      },
      "outputs": [],
      "source": [
        "import os\nfrom pathlib import Path\nimport matplotlib.pyplot as plt\nfrom benchopt import run_benchmark\nfrom benchopt.benchmark import Benchmark\nfrom benchopt.viz import plot_benchmark, PLOT_KINDS\n\n\nBENCHMARK_PATH = Path(os.getcwd()).parent / 'benchmarks' / 'logreg_l2'\n\n\ntry:\n    df = run_benchmark(\n        Benchmark(BENCHMARK_PATH), ['sklearn', 'lightning'],\n        dataset_names=['Simulated*n_samples=200,n_features=500*'],\n        max_runs=100, timeout=20, n_repetitions=3,\n        plot_result=False, show_progress=False\n    )\nexcept RuntimeError:\n    raise RuntimeError(\n        \"This example can only work when Lasso benchmark is cloned in the \"\n        \"example folder. Please run:\\n\"\n        \"$ git clone https://github.com/benchopt/benchmark_logreg_l2 \"\n        f\"{BENCHMARK_PATH.resolve()}\"\n    )\n\n\nkinds = list(PLOT_KINDS.keys())\nfigs = plot_benchmark(df, benchmark=str(BENCHMARK_PATH), kinds=kinds)\nplt.show()"
      ]
    }
  ],
  "metadata": {
    "kernelspec": {
      "display_name": "Python 3",
      "language": "python",
      "name": "python3"
    },
    "language_info": {
      "codemirror_mode": {
        "name": "ipython",
        "version": 3
      },
      "file_extension": ".py",
      "mimetype": "text/x-python",
      "name": "python",
      "nbconvert_exporter": "python",
      "pygments_lexer": "ipython3",
      "version": "3.8.5"
    }
  },
  "nbformat": 4,
  "nbformat_minor": 0
}