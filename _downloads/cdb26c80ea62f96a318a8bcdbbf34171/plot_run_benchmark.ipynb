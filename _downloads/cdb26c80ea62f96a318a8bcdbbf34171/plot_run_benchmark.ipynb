{
  "cells": [
    {
      "cell_type": "code",
      "execution_count": null,
      "metadata": {
        "collapsed": false
      },
      "outputs": [],
      "source": [
        "%matplotlib inline"
      ]
    },
    {
      "cell_type": "markdown",
      "metadata": {},
      "source": [
        "\n# Run benchmark from a script\n"
      ]
    },
    {
      "cell_type": "code",
      "execution_count": null,
      "metadata": {
        "collapsed": false
      },
      "outputs": [],
      "source": [
        "import os\nfrom pathlib import Path\nimport matplotlib.pyplot as plt\nimport benchopt\nfrom benchopt import run_benchmark\nfrom benchopt.viz import plot_benchmark\n\ncwd = os.getcwd()\nos.chdir(Path(os.path.dirname(benchopt.__file__)) / '..')\n\ndf = run_benchmark('benchmarks/logreg_l2', ['sklearn', 'lightning'],\n                   forced_solvers=[],\n                   dataset_names=['Simulated*n_samples=200,n_features=500*'],\n                   max_runs=100, timeout=20, n_repetitions=3)\n\nfigs = plot_benchmark(df, benchmark='benchmarks/logreg_l2')\nplt.show()\nos.chdir(cwd)"
      ]
    }
  ],
  "metadata": {
    "kernelspec": {
      "display_name": "Python 3",
      "language": "python",
      "name": "python3"
    },
    "language_info": {
      "codemirror_mode": {
        "name": "ipython",
        "version": 3
      },
      "file_extension": ".py",
      "mimetype": "text/x-python",
      "name": "python",
      "nbconvert_exporter": "python",
      "pygments_lexer": "ipython3",
      "version": "3.8.1"
    }
  },
  "nbformat": 4,
  "nbformat_minor": 0
}