{
  "cells": [
    {
      "cell_type": "markdown",
      "metadata": {},
      "source": [
        "\n# Run benchmark from a script\n"
      ]
    },
    {
      "cell_type": "code",
      "execution_count": null,
      "metadata": {
        "collapsed": false
      },
      "outputs": [],
      "source": [
        "from pathlib import Path\nimport matplotlib.pyplot as plt\nfrom benchopt import run_benchmark\nfrom benchopt.benchmark import Benchmark\nfrom benchopt.plotting import plot_benchmark, PLOT_KINDS\nfrom benchopt.plotting.plot_objective_curve import reset_solver_styles_idx\n\n\nBENCHMARK_PATH = (\n    Path().resolve().parent / 'benchmarks' / 'benchmark_logreg_l2'\n)\n\n\ntry:\n\n    save_file = run_benchmark(\n        BENCHMARK_PATH,\n        solver_names=['sklearn[liblinear]', 'sklearn[newton-cg]', 'lightning'],\n        dataset_names=[\"Simulated[n_features=500,n_samples=200]\"],\n        objective_filters=['L2 Logistic Regression[lmbd=1.0]'],\n        max_runs=100, timeout=20, n_repetitions=15,\n        plot_result=False, show_progress=True\n    )\n\nexcept RuntimeError:\n    raise RuntimeError(\n        \"This example can only work when Logreg-l2 benchmark is cloned in a \"\n        \"`benchmarks` folder. Please run:\\n\"\n        \"$ git clone https://github.com/benchopt/benchmark_logreg_l2 \"\n        f\"{BENCHMARK_PATH.resolve()}\"\n    )\n\n\nkinds = list(PLOT_KINDS.keys())\nreset_solver_styles_idx()\nfigs = plot_benchmark(save_file, benchmark=Benchmark(BENCHMARK_PATH),\n                      kinds=kinds, html=False)\nplt.show()"
      ]
    }
  ],
  "metadata": {
    "kernelspec": {
      "display_name": "Python 3",
      "language": "python",
      "name": "python3"
    },
    "language_info": {
      "codemirror_mode": {
        "name": "ipython",
        "version": 3
      },
      "file_extension": ".py",
      "mimetype": "text/x-python",
      "name": "python",
      "nbconvert_exporter": "python",
      "pygments_lexer": "ipython3",
      "version": "3.10.14"
    }
  },
  "nbformat": 4,
  "nbformat_minor": 0
}