{
  "cells": [
    {
      "cell_type": "code",
      "execution_count": null,
      "metadata": {
        "collapsed": false
      },
      "outputs": [],
      "source": [
        "%matplotlib inline"
      ]
    },
    {
      "cell_type": "markdown",
      "metadata": {},
      "source": [
        "\n# Demo benchmark with Julia/R/Python\n"
      ]
    },
    {
      "cell_type": "code",
      "execution_count": null,
      "metadata": {
        "collapsed": false
      },
      "outputs": [],
      "source": [
        "import os\nfrom pathlib import Path\nimport matplotlib.pyplot as plt\nfrom benchopt import run_benchmark\nfrom benchopt.viz import plot_benchmark, PLOT_KINDS\n\n\nBENCHMARK_PATH = Path(os.getcwd()).parent / 'benchmarks' / 'lasso'\n\ntry:\n    df = run_benchmark(\n        str(BENCHMARK_PATH),\n        ['Python-PGD*use_acceleration=False', 'R-PGD', 'Julia-PGD'],\n        dataset_names=['Simulated*n_samples=100,n_features=500*'],\n        objective_filters=['reg=0.5'],\n        max_runs=100, timeout=100, n_repetitions=5,\n        plot_result=False, show_progress=False\n    )\nexcept RuntimeError:\n    raise RuntimeError(\n        \"This example can only work when Lasso benchmark is cloned in the \"\n        \"example folder. Please run:\\n\"\n        \"$ git clone https://github.com/benchopt/benchmark_lasso \"\n        f\"{BENCHMARK_PATH.resolve()}\"\n    )\n\nkinds = list(PLOT_KINDS.keys())\nfigs = plot_benchmark(df, benchmark=str(BENCHMARK_PATH), kinds=kinds)\nplt.show()"
      ]
    }
  ],
  "metadata": {
    "kernelspec": {
      "display_name": "Python 3",
      "language": "python",
      "name": "python3"
    },
    "language_info": {
      "codemirror_mode": {
        "name": "ipython",
        "version": 3
      },
      "file_extension": ".py",
      "mimetype": "text/x-python",
      "name": "python",
      "nbconvert_exporter": "python",
      "pygments_lexer": "ipython3",
      "version": "3.8.5"
    }
  },
  "nbformat": 4,
  "nbformat_minor": 0
}